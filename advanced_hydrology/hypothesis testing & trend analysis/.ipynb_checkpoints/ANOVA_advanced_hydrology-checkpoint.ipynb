{
 "metadata": {
  "name": "",
  "signature": "sha256:43dc198770e3908fd1475e44ace3efa2d417277d5f75fa6769c8595be24040d2"
 },
 "nbformat": 3,
 "nbformat_minor": 0,
 "worksheets": [
  {
   "cells": [
    {
     "cell_type": "markdown",
     "metadata": {},
     "source": [
      "**Question 4:** In the excel spreadsheet you will find annual precipitation and runoff data for four basins. These basins are located in the same geography and climate. For a regional water resources development project you are given limited amount of funding to study one representative basin among the four basins, because your client claims that these basins behave similarly and therefore studying one representative basin in detail would be sufficient. Before you accept the client\u2019s claim, you would like test if the basins have an identical mean behavior. For this purpose, calculate the annual runoff ratio of the basins (runoff/precipitation) as a surrogate index for annual hydrologic behavior, and apply the ANOVA procedure in MATLAB for annual runoff. For test level use \u03b1=0.05."
     ]
    },
    {
     "cell_type": "code",
     "collapsed": false,
     "input": [
      "import numpy as np\n",
      "import pandas as pd\n",
      "import matplotlib.pylab as plt\n",
      "import datetime as dt\n",
      "import os\n",
      "import scipy.stats as stats\n",
      "import matplotlib as mpl\n",
      "%matplotlib inline"
     ],
     "language": "python",
     "metadata": {},
     "outputs": [],
     "prompt_number": 1
    },
    {
     "cell_type": "code",
     "collapsed": false,
     "input": [
      "mpl.rcParams['xtick.labelsize'] = 15\n",
      "mpl.rcParams['ytick.labelsize'] = 15\n",
      "mpl.rcParams['lines.linewidth'] = 3\n",
      "mpl.rcParams['axes.labelsize'] = 18\n",
      "mpl.rcParams['legend.fontsize'] = 15"
     ],
     "language": "python",
     "metadata": {},
     "outputs": [],
     "prompt_number": 2
    },
    {
     "cell_type": "code",
     "collapsed": false,
     "input": [
      "os.chdir('/usr1/jiawei/homework/advancedHydrology/hw1/question4')"
     ],
     "language": "python",
     "metadata": {},
     "outputs": [],
     "prompt_number": 3
    },
    {
     "cell_type": "code",
     "collapsed": false,
     "input": [
      "def read_data(ifile):\n",
      "    data = np.genfromtxt(ifile,skip_header=3)\n",
      "    df = pd.DataFrame(data,columns=['year','prec','runoff'])\n",
      "    df.index = df['year']\n",
      "    df['ratio'] = df['runoff']/df['prec']\n",
      "    return df"
     ],
     "language": "python",
     "metadata": {},
     "outputs": [],
     "prompt_number": 4
    },
    {
     "cell_type": "code",
     "collapsed": false,
     "input": [
      "def return_ratio(df):\n",
      "    return df['ratio'].values"
     ],
     "language": "python",
     "metadata": {},
     "outputs": [],
     "prompt_number": 5
    },
    {
     "cell_type": "code",
     "collapsed": false,
     "input": [
      "df1 = read_data('basin1')\n",
      "df2 = read_data('basin2')\n",
      "df3 = read_data('basin3')\n",
      "df4 = read_data('basin4')\n",
      "data1 = return_ratio(df1)\n",
      "data2 = return_ratio(df2)\n",
      "data3 = return_ratio(df3)\n",
      "data4 = return_ratio(df4)"
     ],
     "language": "python",
     "metadata": {},
     "outputs": [],
     "prompt_number": 6
    },
    {
     "cell_type": "code",
     "collapsed": false,
     "input": [
      "fig = plt.figure(figsize=(10,8))\n",
      "ax = fig.add_subplot(111)\n",
      "ax.boxplot([df1['ratio'].values,df2['ratio'].values,df3['ratio'].values,df4['ratio'].values])"
     ],
     "language": "python",
     "metadata": {},
     "outputs": [
      {
       "metadata": {},
       "output_type": "pyout",
       "prompt_number": 7,
       "text": [
        "{'boxes': [<matplotlib.lines.Line2D at 0x4195950>,\n",
        "  <matplotlib.lines.Line2D at 0x419eb90>,\n",
        "  <matplotlib.lines.Line2D at 0x41a9dd0>,\n",
        "  <matplotlib.lines.Line2D at 0x42f2050>],\n",
        " 'caps': [<matplotlib.lines.Line2D at 0x4192c90>,\n",
        "  <matplotlib.lines.Line2D at 0x4195310>,\n",
        "  <matplotlib.lines.Line2D at 0x419ced0>,\n",
        "  <matplotlib.lines.Line2D at 0x419e550>,\n",
        "  <matplotlib.lines.Line2D at 0x41a9150>,\n",
        "  <matplotlib.lines.Line2D at 0x41a9790>,\n",
        "  <matplotlib.lines.Line2D at 0x42f0390>,\n",
        "  <matplotlib.lines.Line2D at 0x42f09d0>],\n",
        " 'fliers': [<matplotlib.lines.Line2D at 0x4198610>,\n",
        "  <matplotlib.lines.Line2D at 0x4198c10>,\n",
        "  <matplotlib.lines.Line2D at 0x41a1850>,\n",
        "  <matplotlib.lines.Line2D at 0x41a1e50>,\n",
        "  <matplotlib.lines.Line2D at 0x41aba90>,\n",
        "  <matplotlib.lines.Line2D at 0x41ae0d0>,\n",
        "  <matplotlib.lines.Line2D at 0x42f2cd0>,\n",
        "  <matplotlib.lines.Line2D at 0x42f6310>],\n",
        " 'medians': [<matplotlib.lines.Line2D at 0x4195f90>,\n",
        "  <matplotlib.lines.Line2D at 0x41a1210>,\n",
        "  <matplotlib.lines.Line2D at 0x41ab450>,\n",
        "  <matplotlib.lines.Line2D at 0x42f2690>],\n",
        " 'whiskers': [<matplotlib.lines.Line2D at 0x4192350>,\n",
        "  <matplotlib.lines.Line2D at 0x41925d0>,\n",
        "  <matplotlib.lines.Line2D at 0x419c610>,\n",
        "  <matplotlib.lines.Line2D at 0x419c890>,\n",
        "  <matplotlib.lines.Line2D at 0x41a6850>,\n",
        "  <matplotlib.lines.Line2D at 0x41a6ad0>,\n",
        "  <matplotlib.lines.Line2D at 0x41aea90>,\n",
        "  <matplotlib.lines.Line2D at 0x41aed10>]}"
       ]
      },
      {
       "metadata": {},
       "output_type": "display_data",
       "png": "[encoded data removed]",
       "text": [
        "<matplotlib.figure.Figure at 0x4121250>"
       ]
      }
     ],
     "prompt_number": 7
    },
    {
     "cell_type": "markdown",
     "metadata": {},
     "source": [
      "###Test the null hypothesis, H0: The mean of annual runoff ratios of four basins are common. (alpha = 0.05)\n",
      "####Decision: f = 79.85 > F = 0.18, p = 8.17e-36 < alpha = 0.05, therefore H0 can be rejected."
     ]
    },
    {
     "cell_type": "code",
     "collapsed": false,
     "input": [
      "N = data1.size + data2.size + data3.size + data4.size\n",
      "k = 4\n",
      "N = N - k\n",
      "alpha = 0.05\n",
      "f_alpha = stats.f.ppf(alpha,k,N)\n",
      "f_alpha"
     ],
     "language": "python",
     "metadata": {},
     "outputs": [
      {
       "metadata": {},
       "output_type": "pyout",
       "prompt_number": 8,
       "text": [
        "0.17720439156772616"
       ]
      }
     ],
     "prompt_number": 8
    },
    {
     "cell_type": "code",
     "collapsed": false,
     "input": [
      "f_value,p_value = stats.f_oneway(data1,data2,data3,data4)\n",
      "f_value,p_value"
     ],
     "language": "python",
     "metadata": {},
     "outputs": [
      {
       "metadata": {},
       "output_type": "pyout",
       "prompt_number": 9,
       "text": [
        "(79.847428261874668, 8.1674610268913428e-36)"
       ]
      }
     ],
     "prompt_number": 9
    }
   ],
   "metadata": {}
  }
 ]
}