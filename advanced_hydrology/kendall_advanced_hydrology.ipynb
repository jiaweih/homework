{
 "metadata": {
  "name": "",
  "signature": "sha256:ecc8399f7f71695d42eb5746cadeda4102f55f273f21a0d323fb4a9f1cbb011e"
 },
 "nbformat": 3,
 "nbformat_minor": 0,
 "worksheets": [
  {
   "cells": [
    {
     "cell_type": "markdown",
     "metadata": {},
     "source": [
      "#Question3"
     ]
    },
    {
     "cell_type": "code",
     "collapsed": false,
     "input": [
      "import numpy as np\n",
      "import pandas as pd\n",
      "import matplotlib.pylab as plt\n",
      "import datetime as dt\n",
      "import os\n",
      "import scipy.stats as stats\n",
      "import matplotlib as mpl\n",
      "%matplotlib inline"
     ],
     "language": "python",
     "metadata": {},
     "outputs": [],
     "prompt_number": 1
    },
    {
     "cell_type": "code",
     "collapsed": false,
     "input": [
      "os.chdir('/usr1/jiawei/homework/advancedHydrology/hw1/question3')"
     ],
     "language": "python",
     "metadata": {},
     "outputs": [],
     "prompt_number": 2
    },
    {
     "cell_type": "code",
     "collapsed": false,
     "input": [
      "data = np.genfromtxt('data',skip_header = 2)\n",
      "index = pd.date_range(start = '1946',end = '2011',freq='A')\n",
      "df = pd.DataFrame(data,index=index,columns=['year','peak','mean'])"
     ],
     "language": "python",
     "metadata": {},
     "outputs": [],
     "prompt_number": 3
    },
    {
     "cell_type": "markdown",
     "metadata": {},
     "source": [
      "###Calculate Kendall's correlation coefficient for annual mean discharge with time\n",
      "###Null hypothesis, H0: the distribution of annual mean discharge does not change as a function of time"
     ]
    },
    {
     "cell_type": "code",
     "collapsed": false,
     "input": [
      "tau, p_value = stats.kendalltau(df.index.year,df['mean'].values)\n",
      "tau, p_value"
     ],
     "language": "python",
     "metadata": {},
     "outputs": [
      {
       "metadata": {},
       "output_type": "pyout",
       "prompt_number": 4,
       "text": [
        "(0.1164581867597822, 0.17025826151923329)"
       ]
      }
     ],
     "prompt_number": 4
    },
    {
     "cell_type": "code",
     "collapsed": false,
     "input": [
      "stats.norm.ppf(1-p_value/2,0,1)"
     ],
     "language": "python",
     "metadata": {},
     "outputs": [
      {
       "metadata": {},
       "output_type": "pyout",
       "prompt_number": 5,
       "text": [
        "1.3713744386976083"
       ]
      }
     ],
     "prompt_number": 5
    },
    {
     "cell_type": "markdown",
     "metadata": {},
     "source": [
      "###Calculate Kendall's correlation coefficient for annual peak discharge with time\n",
      "###Null hypothesis, H0: the distribution of annual peak discharge does not change as a function of time"
     ]
    },
    {
     "cell_type": "code",
     "collapsed": false,
     "input": [
      "tau, p_value = stats.kendalltau(df.index.year,df['peak'].values)\n",
      "tau, p_value"
     ],
     "language": "python",
     "metadata": {},
     "outputs": [
      {
       "metadata": {},
       "output_type": "pyout",
       "prompt_number": 6,
       "text": [
        "(0.65735706187865384, 9.8772251532627057e-15)"
       ]
      }
     ],
     "prompt_number": 6
    },
    {
     "cell_type": "code",
     "collapsed": false,
     "input": [
      "stats.norm.ppf(1-p_value/2,0,1)"
     ],
     "language": "python",
     "metadata": {},
     "outputs": [
      {
       "metadata": {},
       "output_type": "pyout",
       "prompt_number": 7,
       "text": [
        "7.7422149586576818"
       ]
      }
     ],
     "prompt_number": 7
    },
    {
     "cell_type": "markdown",
     "metadata": {},
     "source": [
      "** Kendall's correlation coefficient for annual mean discharge with time is tau = 0.116, p = 0.170, Z = 1.371, since |Z| < Z(0.975) = 1.96,\n",
      "p > alpha = 0.05, there is not enough evidence to reject H0: tau = 0.**\n",
      "\n",
      "**Kendall's correlation coefficient for annual peak discharge with time is tau = 0.657, p = 9.877e-15, Z = 7.74, since |Z| > Z(0.975) = 1.96,\n",
      "p < alpha = 0.05, there is enough evidence to reject H0: tau = 0.**\n",
      "    "
     ]
    },
    {
     "cell_type": "code",
     "collapsed": false,
     "input": [
      "n = df['mean'].count()\n",
      "s = 0\n",
      "for i in np.arange(0,n-1):\n",
      "    for j in np.arange(i+1,n):\n",
      "        s+=np.sign(df['mean'].ix[j] - df['mean'].ix[i])"
     ],
     "language": "python",
     "metadata": {},
     "outputs": [],
     "prompt_number": 8
    },
    {
     "cell_type": "code",
     "collapsed": false,
     "input": [
      "varS = n*(n-1)*(2*n+5)/18.0\n",
      "stdS = np.sqrt(varS)\n",
      "\n",
      "if s > 0:\n",
      "    z = (s - 1)/stdS\n",
      "elif s == 0:\n",
      "    z = 0\n",
      "else:\n",
      "    z = (s + 1)/stdS\n",
      "\n",
      "print z"
     ],
     "language": "python",
     "metadata": {},
     "outputs": [
      {
       "output_type": "stream",
       "stream": "stdout",
       "text": [
        "1.36439382614\n"
       ]
      }
     ],
     "prompt_number": 9
    },
    {
     "cell_type": "code",
     "collapsed": false,
     "input": [
      "p = 2*(1-stats.norm.cdf(z,0,1))\n",
      "p"
     ],
     "language": "python",
     "metadata": {},
     "outputs": [
      {
       "metadata": {},
       "output_type": "pyout",
       "prompt_number": 10,
       "text": [
        "0.17244364995694039"
       ]
      }
     ],
     "prompt_number": 10
    },
    {
     "cell_type": "code",
     "collapsed": false,
     "input": [
      "tau = s/(n*(n-1)/2.0)\n",
      "tau"
     ],
     "language": "python",
     "metadata": {},
     "outputs": [
      {
       "metadata": {},
       "output_type": "pyout",
       "prompt_number": 11,
       "text": [
        "0.11634615384615385"
       ]
      }
     ],
     "prompt_number": 11
    },
    {
     "cell_type": "code",
     "collapsed": false,
     "input": [
      "alpha = 0.05\n",
      "z_alpha = stats.norm.ppf(1-alpha,0,1)\n",
      "z_alpha"
     ],
     "language": "python",
     "metadata": {},
     "outputs": [
      {
       "metadata": {},
       "output_type": "pyout",
       "prompt_number": 12,
       "text": [
        "1.6448536269514722"
       ]
      }
     ],
     "prompt_number": 12
    }
   ],
   "metadata": {}
  }
 ]
}