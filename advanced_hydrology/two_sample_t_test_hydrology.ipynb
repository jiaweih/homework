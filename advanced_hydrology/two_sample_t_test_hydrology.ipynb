{
 "metadata": {
  "name": "",
  "signature": "sha256:01896f66e1b10f5b43203bdf7f5807607623a1a924e8ff6eecb5bad6ea4e86b2"
 },
 "nbformat": 3,
 "nbformat_minor": 0,
 "worksheets": [
  {
   "cells": [
    {
     "cell_type": "markdown",
     "metadata": {},
     "source": [
      "#Question2"
     ]
    },
    {
     "cell_type": "code",
     "collapsed": false,
     "input": [
      "import numpy as np\n",
      "import pandas as pd\n",
      "import matplotlib.pylab as plt\n",
      "import datetime as dt\n",
      "import os\n",
      "import scipy.stats as stats\n",
      "import matplotlib as mpl\n",
      "%matplotlib inline"
     ],
     "language": "python",
     "metadata": {},
     "outputs": [],
     "prompt_number": 16
    },
    {
     "cell_type": "code",
     "collapsed": false,
     "input": [
      "mpl.rcParams['xtick.labelsize'] = 15\n",
      "mpl.rcParams['ytick.labelsize'] = 15\n",
      "mpl.rcParams['lines.linewidth'] = 3\n",
      "mpl.rcParams['axes.labelsize'] = 18\n",
      "mpl.rcParams['legend.fontsize'] = 15"
     ],
     "language": "python",
     "metadata": {},
     "outputs": [],
     "prompt_number": 17
    },
    {
     "cell_type": "code",
     "collapsed": false,
     "input": [
      "os.chdir('/usr1/jiawei/homework/advancedHydrology/hw1/question2/')"
     ],
     "language": "python",
     "metadata": {},
     "outputs": [],
     "prompt_number": 18
    },
    {
     "cell_type": "code",
     "collapsed": false,
     "input": [
      "data = np.genfromtxt('data',skip_header=2)\n",
      "dates = pd.date_range(start = '1946', end = '2008', freq = 'A')\n",
      "df = pd.DataFrame(data, index = dates, columns = ['year','PREC','RUNOFF'])"
     ],
     "language": "python",
     "metadata": {},
     "outputs": [],
     "prompt_number": 19
    },
    {
     "cell_type": "markdown",
     "metadata": {},
     "source": [
      "###Two-sample t-test to test the null hypothesis, H0: the means of precipitation of the two groups are equal (alpha = 0.05)"
     ]
    },
    {
     "cell_type": "markdown",
     "metadata": {},
     "source": [
      "* **Precipitation**\n",
      "\n",
      ">* **for equal variance, |t| = 0.43, p = 0.67**\n",
      ">* **for unequal variance, |t| = 0.47, p = 0.64**\n",
      "\n",
      "** Decision: for both cases, |t| < t(1-alpha/2) = 2.0, and p > alpha, there is not enough evidence to reject H0**\n",
      "\n"
     ]
    },
    {
     "cell_type": "markdown",
     "metadata": {},
     "source": [
      "###Two-sample t-test to test the null hypothesis, H0: the means of runoff of the two groups are equal (alpha = 0.05)"
     ]
    },
    {
     "cell_type": "markdown",
     "metadata": {},
     "source": [
      "* **Runoff**\n",
      "\n",
      ">* **for equal variance, |t| = 6.28, p = 3.95e-8**\n",
      ">* **for unequal variance, |t| = 7.68, p = 2.82e-10**\n",
      "\n",
      "** Decision: for both cases, |t| > t(1-alpha/2) = 2.0, and p < alpha, there is enough evidence to reject H0**"
     ]
    },
    {
     "cell_type": "code",
     "collapsed": false,
     "input": [
      "start = dt.datetime(1946,12,31)\n",
      "mid = dt.datetime(1964,12,31)\n",
      "end = dt.datetime(2007,12,31)\n",
      "df_P_before = df['PREC'].ix[start:mid]\n",
      "df_P_after = df['PREC'].ix[mid:end]\n",
      "df_R_before = df['RUNOFF'].ix[start:mid]\n",
      "df_R_after = df['RUNOFF'].ix[mid:end]"
     ],
     "language": "python",
     "metadata": {},
     "outputs": [],
     "prompt_number": 20
    },
    {
     "cell_type": "markdown",
     "metadata": {},
     "source": [
      "####Assumption of equal variance"
     ]
    },
    {
     "cell_type": "code",
     "collapsed": false,
     "input": [
      "tstat_P, pval_P = stats.ttest_ind(df_P_before,df_P_after)\n",
      "tstat_R, pval_R = stats.ttest_ind(df_R_before,df_R_after)"
     ],
     "language": "python",
     "metadata": {},
     "outputs": [],
     "prompt_number": 21
    },
    {
     "cell_type": "code",
     "collapsed": false,
     "input": [
      "print tstat_P, pval_P\n",
      "print tstat_R, pval_R"
     ],
     "language": "python",
     "metadata": {},
     "outputs": [
      {
       "output_type": "stream",
       "stream": "stdout",
       "text": [
        "-0.428063062471 0.670112812889\n",
        "6.2788265624 3.95364410989e-08\n"
       ]
      }
     ],
     "prompt_number": 22
    },
    {
     "cell_type": "markdown",
     "metadata": {},
     "source": [
      "####Assumption of non-equal variance"
     ]
    },
    {
     "cell_type": "code",
     "collapsed": false,
     "input": [
      "tstat_P, pval_P = stats.ttest_ind(df_P_before,df_P_after,equal_var = False)\n",
      "tstat_R, pval_R = stats.ttest_ind(df_R_before,df_R_after,equal_var = False)"
     ],
     "language": "python",
     "metadata": {},
     "outputs": [],
     "prompt_number": 23
    },
    {
     "cell_type": "code",
     "collapsed": false,
     "input": [
      "print tstat_P, pval_P\n",
      "print tstat_R, pval_R"
     ],
     "language": "python",
     "metadata": {},
     "outputs": [
      {
       "output_type": "stream",
       "stream": "stdout",
       "text": [
        "-0.473743982813 0.6380360238\n",
        "7.67582225461 2.82499658612e-10\n"
       ]
      }
     ],
     "prompt_number": 24
    },
    {
     "cell_type": "code",
     "collapsed": false,
     "input": [
      "stats.t.ppf(0.975,60)"
     ],
     "language": "python",
     "metadata": {},
     "outputs": [
      {
       "metadata": {},
       "output_type": "pyout",
       "prompt_number": 25,
       "text": [
        "2.0002978210582616"
       ]
      }
     ],
     "prompt_number": 25
    },
    {
     "cell_type": "markdown",
     "metadata": {},
     "source": [
      "###Rank-sum test for null hypothesis: H0: the medians of precipitation of the two groups are equal\n",
      "\n",
      "* **Decision: |Zrs| = 0.69 < Z(0.975) = 1.96, therefore H0 cannot be rejected.**\n",
      "\n",
      "###Rank-sum test for null hypothesis: H0: the medians of precipitation of the two groups are equal\n",
      "* **Decision: |Zrs| = 5.08 > Z(0.975) = 1.96, therefore H0 can be rejected.**"
     ]
    },
    {
     "cell_type": "markdown",
     "metadata": {},
     "source": [
      "####Two-sample t-test and rank-sum test both indicate that the means of precipitation before and after 1964 have not changed, the means of runoff have changed in both time periods, meaning that the changes in runoff were due to land use change instead of climate change."
     ]
    },
    {
     "cell_type": "code",
     "collapsed": false,
     "input": [
      "zstat_P,zval_P = stats.ranksums(df_P_before,df_P_after)\n",
      "zstat_R,zval_R = stats.ranksums(df_R_before,df_R_after)"
     ],
     "language": "python",
     "metadata": {},
     "outputs": [],
     "prompt_number": 26
    },
    {
     "cell_type": "code",
     "collapsed": false,
     "input": [
      "print zstat_P,zval_P\n",
      "print zstat_R,zval_R"
     ],
     "language": "python",
     "metadata": {},
     "outputs": [
      {
       "output_type": "stream",
       "stream": "stdout",
       "text": [
        "-0.696386671278 0.486186707929\n",
        "5.0843715032 3.68845373707e-07\n"
       ]
      }
     ],
     "prompt_number": 27
    },
    {
     "cell_type": "code",
     "collapsed": false,
     "input": [
      "stats.norm.ppf(0.975)"
     ],
     "language": "python",
     "metadata": {},
     "outputs": [
      {
       "metadata": {},
       "output_type": "pyout",
       "prompt_number": 28,
       "text": [
        "1.959963984540054"
       ]
      }
     ],
     "prompt_number": 28
    },
    {
     "cell_type": "code",
     "collapsed": false,
     "input": [
      "fig = plt.figure(figsize = (10,8))\n",
      "ax = fig.add_subplot(111)\n",
      "ax.boxplot([df_P_before,df_P_after])\n",
      "ax.set_xticklabels(['before 1964','after 1964'])\n",
      "ax.set_ylabel('Precipitation (mm)')\n",
      "ax.set_title('Boxplot of precipitation before 1964 and after 1964')"
     ],
     "language": "python",
     "metadata": {},
     "outputs": [
      {
       "metadata": {},
       "output_type": "pyout",
       "prompt_number": 29,
       "text": [
        "<matplotlib.text.Text at 0x591d890>"
       ]
      },
      {
       "metadata": {},
       "output_type": "display_data",
       "png": "[encoded data removed]",
       "text": [
        "<matplotlib.figure.Figure at 0x55bfd90>"
       ]
      }
     ],
     "prompt_number": 29
    },
    {
     "cell_type": "code",
     "collapsed": false,
     "input": [
      "fig = plt.figure(figsize = (10,8))\n",
      "ax = fig.add_subplot(111)\n",
      "ax.boxplot([df_R_before,df_R_after])\n",
      "ax.set_xticklabels(['before 1964','after 1964'])\n",
      "ax.set_ylabel('Runoff (mm)')\n",
      "ax.set_title('Boxplot of runoff before 1964 and after 1964')"
     ],
     "language": "python",
     "metadata": {},
     "outputs": [
      {
       "metadata": {},
       "output_type": "pyout",
       "prompt_number": 30,
       "text": [
        "<matplotlib.text.Text at 0x5827490>"
       ]
      },
      {
       "metadata": {},
       "output_type": "display_data",
       "png": "[encoded data removed]",
       "text": [
        "<matplotlib.figure.Figure at 0x543a590>"
       ]
      }
     ],
     "prompt_number": 30
    }
   ],
   "metadata": {}
  }
 ]
}