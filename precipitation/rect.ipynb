{
 "metadata": {
  "name": "",
  "signature": "sha256:33e8c299bb3909d5ca9ddad63d722fa8b6a1f2b2ef41cebd380052ad1e8892f1"
 },
 "nbformat": 3,
 "nbformat_minor": 0,
 "worksheets": [
  {
   "cells": [
    {
     "cell_type": "code",
     "collapsed": false,
     "input": [
      "import scipy.io\n",
      "import numpy as np\n",
      "import pandas as pd\n",
      "import matplotlib as mpl\n",
      "import matplotlib.pyplot as plt\n",
      "import os\n",
      "import datetime as dt\n",
      "import statsmodels.api as sm \n",
      "%matplotlib inline"
     ],
     "language": "python",
     "metadata": {},
     "outputs": [],
     "prompt_number": 168
    },
    {
     "cell_type": "code",
     "collapsed": false,
     "input": [
      "mat = scipy.io.loadmat('SEATAC_PRCPmm_hrly.mat')"
     ],
     "language": "python",
     "metadata": {},
     "outputs": [],
     "prompt_number": 169
    },
    {
     "cell_type": "code",
     "collapsed": false,
     "input": [
      "mat.keys()"
     ],
     "language": "python",
     "metadata": {},
     "outputs": [
      {
       "metadata": {},
       "output_type": "pyout",
       "prompt_number": 170,
       "text": [
        "['PRCPmm', '__version__', 'TIME', '__header__', '__globals__']"
       ]
      }
     ],
     "prompt_number": 170
    },
    {
     "cell_type": "code",
     "collapsed": false,
     "input": [
      " mat['PRCPmm'].shape"
     ],
     "language": "python",
     "metadata": {},
     "outputs": [
      {
       "metadata": {},
       "output_type": "pyout",
       "prompt_number": 171,
       "text": [
        "(423629, 1)"
       ]
      }
     ],
     "prompt_number": 171
    },
    {
     "cell_type": "code",
     "collapsed": false,
     "input": [
      "mat['TIME'].shape"
     ],
     "language": "python",
     "metadata": {},
     "outputs": [
      {
       "metadata": {},
       "output_type": "pyout",
       "prompt_number": 172,
       "text": [
        "(423629, 7)"
       ]
      }
     ],
     "prompt_number": 172
    },
    {
     "cell_type": "code",
     "collapsed": false,
     "input": [
      "len(mat['TIME'])"
     ],
     "language": "python",
     "metadata": {},
     "outputs": [
      {
       "metadata": {},
       "output_type": "pyout",
       "prompt_number": 173,
       "text": [
        "423629"
       ]
      }
     ],
     "prompt_number": 173
    },
    {
     "cell_type": "code",
     "collapsed": false,
     "input": [
      "mat['TIME'][0,1]"
     ],
     "language": "python",
     "metadata": {},
     "outputs": [
      {
       "metadata": {},
       "output_type": "pyout",
       "prompt_number": 174,
       "text": [
        "1.0"
       ]
      }
     ],
     "prompt_number": 174
    },
    {
     "cell_type": "code",
     "collapsed": false,
     "input": [
      "###extract data of January\n",
      "jan = []\n",
      "for i in np.arange(len(mat['TIME'])):\n",
      "    if mat['TIME'][i,1] == 1.0:\n",
      "        jan.append(mat['PRCPmm'][i,0])\n",
      "len(jan)"
     ],
     "language": "python",
     "metadata": {},
     "outputs": [
      {
       "metadata": {},
       "output_type": "pyout",
       "prompt_number": 175,
       "text": [
        "36456"
       ]
      }
     ],
     "prompt_number": 175
    },
    {
     "cell_type": "code",
     "collapsed": false,
     "input": [
      "jan = np.array(jan)"
     ],
     "language": "python",
     "metadata": {},
     "outputs": [],
     "prompt_number": 176
    },
    {
     "cell_type": "code",
     "collapsed": false,
     "input": [
      "36456/12"
     ],
     "language": "python",
     "metadata": {},
     "outputs": [
      {
       "metadata": {},
       "output_type": "pyout",
       "prompt_number": 177,
       "text": [
        "3038"
       ]
      }
     ],
     "prompt_number": 177
    },
    {
     "cell_type": "code",
     "collapsed": false,
     "input": [
      "jan6 = []\n",
      "for i in np.arange(6076):\n",
      "    jan6.append(np.sum(jan[i*6:i*6+6]))\n",
      "jan6 = np.array(jan6)"
     ],
     "language": "python",
     "metadata": {},
     "outputs": [],
     "prompt_number": 178
    },
    {
     "cell_type": "code",
     "collapsed": false,
     "input": [
      "jan12 = []\n",
      "for i in np.arange(3038):\n",
      "    jan12.append(np.sum(jan[i*12:i*12+12]))\n",
      "jan12 = np.array(jan12)"
     ],
     "language": "python",
     "metadata": {},
     "outputs": [],
     "prompt_number": 179
    },
    {
     "cell_type": "raw",
     "metadata": {},
     "source": [
      "start = dt.datetime(1965,1,1,0,0,0)\n",
      "end = dt.datetime(2013,4,30,4,0,0)\n",
      "dates = pd.date_range(start=start, end=end, freq='H')\n",
      "dates"
     ]
    },
    {
     "cell_type": "code",
     "collapsed": false,
     "input": [
      "df = pd.DataFrame(jan, index = np.arange(len(jan)), columns = ['prcp'])"
     ],
     "language": "python",
     "metadata": {},
     "outputs": [],
     "prompt_number": 180
    },
    {
     "cell_type": "code",
     "collapsed": false,
     "input": [
      "acf = sm.tsa.acf(jan, nlags=1)"
     ],
     "language": "python",
     "metadata": {},
     "outputs": [],
     "prompt_number": 181
    },
    {
     "cell_type": "code",
     "collapsed": false,
     "input": [
      "mean = np.mean(jan)\n",
      "var = np.var(jan)\n",
      "acf = acf[1]\n",
      "cov_matrix = np.cov(jan[0:len(jan)-1],jan[1:len(jan)])\n",
      "cov = cov_matrix[0,1]\n",
      "cov = acf"
     ],
     "language": "python",
     "metadata": {},
     "outputs": [],
     "prompt_number": 182
    },
    {
     "cell_type": "code",
     "collapsed": false,
     "input": [
      "print mean, var, cov"
     ],
     "language": "python",
     "metadata": {},
     "outputs": [
      {
       "output_type": "stream",
       "stream": "stdout",
       "text": [
        "0.189099572087 0.347905913281 0.697799784957\n"
       ]
      }
     ],
     "prompt_number": 183
    },
    {
     "cell_type": "code",
     "collapsed": false,
     "input": [
      "###solve quadratic equation for rou\n",
      "a = var*var\n",
      "b = -8*(cov + var)*mean*mean\n",
      "c = 16*mean**4\n",
      "rho1 = (-b + (b*b - 4*a*c)**0.5)/(2*a)\n",
      "rho2 = (-b - (b*b - 4*a*c)**0.5)/(2*a)\n",
      "print rho1, rho2\n",
      "\n",
      "###solve nonlinear equation for eta\n",
      "def F(x):\n",
      "    X = var/cov\n",
      "    return 2*x**2 - 2*x + 2*x*np.exp(-x) - X*(1 + np.exp(-2*x) - 2*np.exp(-x))\n",
      "\n",
      "import scipy.optimize\n",
      "eta = scipy.optimize.newton_krylov(F,(1),f_tol=1e-14)\n",
      "print eta\n",
      "psi1 = mean/(rho1*eta)\n",
      "psi2 = mean/(rho2*eta)\n",
      "print psi1, psi2"
     ],
     "language": "python",
     "metadata": {},
     "outputs": [
      {
       "output_type": "stream",
       "stream": "stdout",
       "text": [
        "2.40108248218 0.0703965647814\n",
        "0.388157727852\n",
        "0.202896815085 6.92039433889\n"
       ]
      }
     ],
     "prompt_number": 184
    },
    {
     "cell_type": "code",
     "collapsed": false,
     "input": [
      "###solve nonlinear equations\n",
      "def G(p):\n",
      "    x,y,z = p\n",
      "    f1 = x*y*z - mean\n",
      "    f2 = 4*x**2*y*z*(y - 1 + np.exp(-y)) - var\n",
      "    f3 = 2*x**2*z*(np.exp(y) + np.exp(-y) - 2)*np.exp(-y) - cov\n",
      "    return(f1,f2,f3)"
     ],
     "language": "python",
     "metadata": {},
     "outputs": [],
     "prompt_number": 185
    },
    {
     "cell_type": "code",
     "collapsed": false,
     "input": [
      "print psi, eta, rho"
     ],
     "language": "python",
     "metadata": {},
     "outputs": [
      {
       "output_type": "stream",
       "stream": "stdout",
       "text": [
        "6.92039433889 0.388157727852 0.0703965647814\n"
       ]
      }
     ],
     "prompt_number": 186
    },
    {
     "cell_type": "raw",
     "metadata": {},
     "source": [
      "acf1 = sm.tsa.acf(jan, nlags=1)\n",
      "cov1 = acf1[1]\n",
      "acf6 = sm.tsa.acf(jan6, nlags=1)\n",
      "cov6 = acf6[1]\n",
      "acf12 = sm.tsa.acf(jan12, nlags=1)\n",
      "cov12 = acf12[1]"
     ]
    },
    {
     "cell_type": "code",
     "collapsed": false,
     "input": [
      "cov_matrix = np.cov(jan[0:len(jan)-1],jan[1:len(jan)])\n",
      "cov1 = cov_matrix[0,1]\n",
      "cov_matrix = np.cov(jan6[0:len(jan6)-1],jan6[1:len(jan6)])\n",
      "cov6 = cov_matrix[0,1]\n",
      "cov_matrix = np.cov(jan12[0:len(jan12)-1],jan12[1:len(jan12)])\n",
      "cov12 = cov_matrix[0,1]"
     ],
     "language": "python",
     "metadata": {},
     "outputs": [],
     "prompt_number": 188
    },
    {
     "cell_type": "code",
     "collapsed": false,
     "input": [
      "print cov1,cov6,cov12"
     ],
     "language": "python",
     "metadata": {},
     "outputs": [
      {
       "output_type": "stream",
       "stream": "stdout",
       "text": [
        "0.24278199066 3.47022859217 7.85336832154\n"
       ]
      }
     ],
     "prompt_number": 189
    },
    {
     "cell_type": "raw",
     "metadata": {},
     "source": [
      "def F(p):\n",
      "    lamda,beta,gamma,eta,mux = p\n",
      "    alpha = beta/eta\n",
      "    rho = lamda/eta\n",
      "    phi = gamma/eta\n",
      "    muc = 1 + alpha/phi\n",
      "    k = 1\n",
      "    h = 1\n",
      "    f1 = h*rho*muc*mux - mean\n",
      "    f2 = 2*rho*muc*(2*(mux**2) + (beta/gamma)*(mux**2))*h/eta - 2*rho*muc*(2*(mux**2) + (beta*gamma)*(mux**2)/(gamma**2 - eta**2))*(1 - np.exp(-eta*h))/(eta**2)\n",
      "    + 2*rho*muc*(mux**2)*beta*(1 - np.exp(-gamma*h))*eta/((gamma**2 - eta**2)*(gamma**2)) - var\n",
      "    f3 = rho*muc*(2*(mux**2) + (beta*gamma)*(mux**2)/(gamma**2 - eta**2))*((1 - np.exp(-eta*h))**2)*(np.exp(-eta*(k-1)*h))/(eta**2) \n",
      "    - rho*muc*beta*(mux**2)*((1 - np.exp(-gamma*h))**2)*np.exp(-gamma*(k-1)*h)*eta/((gamma**2)*(gamma**2 - eta**2)) - cov1\n",
      "#    h = 6\n",
      "    f4 = rho*muc*(2*(mux**2) + (beta*gamma)*(mux**2)/(gamma**2 - eta**2))*((1 - np.exp(-eta*6))**2)*(np.exp(-eta*(k-1)*6))/(eta**2) \n",
      "    - rho*muc*beta*(mux**2)*((1 - np.exp(-gamma*6))**2)*np.exp(-gamma*(k-1)*6)*eta/((gamma**2)*(gamma**2 - eta**2)) - cov6\n",
      "#    h = 12\n",
      "    f5 = rho*muc*(2*(mux**2) + (beta*gamma)*(mux**2)/(gamma**2 - eta**2))*((1 - np.exp(-eta*12))**2)*(np.exp(-eta*(k-1)*12))/(eta**2) \n",
      "    - rho*muc*beta*(mux**2)*((1 - np.exp(-gamma*12))**2)*np.exp(-gamma*(k-1)*12)*eta/((gamma**2)*(gamma**2 - eta**2)) - cov12\n",
      "    return (f1,f2,f3,f4,f5)"
     ]
    },
    {
     "cell_type": "code",
     "collapsed": false,
     "input": [
      "def check_Bartlett_Lewis(lamda,beta,gamma,eta,mux):\n",
      "    alpha = beta/eta\n",
      "    rho = lamda/eta\n",
      "    phi = gamma/eta\n",
      "    muc = 1 + alpha/phi\n",
      "    k = 1\n",
      "    h = 1\n",
      "    f1 = h*rho*muc*mux - mean\n",
      "    f2 = 2*rho*muc*(2*(mux**2) + (beta/gamma)*(mux**2))*h/eta - 2*rho*muc*(2*(mux**2) + (beta*gamma)*(mux**2)/(gamma**2 - eta**2))*(1 - np.exp(-eta*h))/(eta**2)\n",
      "    + 2*rho*muc*(mux**2)*beta*(1 - np.exp(-gamma*h))*eta/((gamma**2 - eta**2)*(gamma**2)) - var\n",
      "    f3 = rho*muc*(2*(mux**2) + (beta*gamma)*(mux**2)/(gamma**2 - eta**2))*((1 - np.exp(-eta*h))**2)*(np.exp(-eta*(k-1)*h))/(eta**2) \n",
      "    - rho*muc*beta*(mux**2)*((1 - np.exp(-gamma*h))**2)*np.exp(-gamma*(k-1)*h)*eta/((gamma**2)*(gamma**2 - eta**2)) - cov1\n",
      "#    h = 6\n",
      "    f4 = rho*muc*(2*(mux**2) + (beta*gamma)*(mux**2)/(gamma**2 - eta**2))*((1 - np.exp(-eta*6))**2)*(np.exp(-eta*(k-1)*6))/(eta**2) \n",
      "    - rho*muc*beta*(mux**2)*((1 - np.exp(-gamma*6))**2)*np.exp(-gamma*(k-1)*6)*eta/((gamma**2)*(gamma**2 - eta**2)) - cov6\n",
      "#    h = 12\n",
      "    f5 = rho*muc*(2*(mux**2) + (beta*gamma)*(mux**2)/(gamma**2 - eta**2))*((1 - np.exp(-eta*12))**2)*(np.exp(-eta*(k-1)*12))/(eta**2) \n",
      "    - rho*muc*beta*(mux**2)*((1 - np.exp(-gamma*12))**2)*np.exp(-gamma*(k-1)*12)*eta/((gamma**2)*(gamma**2 - eta**2)) - cov12\n",
      "    f = f1**2 + f2**2 + f3**2 + f4**2 + f5**2\n",
      "    return f1,f2,f3,f4,f5"
     ],
     "language": "python",
     "metadata": {},
     "outputs": [],
     "prompt_number": 324
    },
    {
     "cell_type": "code",
     "collapsed": false,
     "input": [
      "def Bartlett_Lewis(p):\n",
      "    lamda,beta,gamma,eta,mux = p\n",
      "    alpha = beta/eta\n",
      "    rho = lamda/eta\n",
      "    phi = gamma/eta\n",
      "    muc = 1 + alpha/phi\n",
      "    k = 1\n",
      "    h = 1\n",
      "    f1 = h*rho*muc*mux - mean\n",
      "    f2 = 2*rho*muc*(2*(mux**2) + (beta/gamma)*(mux**2))*h/eta - 2*rho*muc*(2*(mux**2) + (beta*gamma)*(mux**2)/(gamma**2 - eta**2))*(1 - np.exp(-eta*h))/(eta**2)\n",
      "    + 2*rho*muc*(mux**2)*beta*(1 - np.exp(-gamma*h))*eta/((gamma**2 - eta**2)*(gamma**2)) - var\n",
      "    f3 = rho*muc*(2*(mux**2) + (beta*gamma)*(mux**2)/(gamma**2 - eta**2))*((1 - np.exp(-eta*h))**2)*(np.exp(-eta*(k-1)*h))/(eta**2) \n",
      "    - rho*muc*beta*(mux**2)*((1 - np.exp(-gamma*h))**2)*np.exp(-gamma*(k-1)*h)*eta/((gamma**2)*(gamma**2 - eta**2)) - cov1\n",
      "#    h = 6\n",
      "    f4 = rho*muc*(2*(mux**2) + (beta*gamma)*(mux**2)/(gamma**2 - eta**2))*((1 - np.exp(-eta*6))**2)*(np.exp(-eta*(k-1)*6))/(eta**2) \n",
      "    - rho*muc*beta*(mux**2)*((1 - np.exp(-gamma*6))**2)*np.exp(-gamma*(k-1)*6)*eta/((gamma**2)*(gamma**2 - eta**2)) - cov6\n",
      "#    h = 12\n",
      "    f5 = rho*muc*(2*(mux**2) + (beta*gamma)*(mux**2)/(gamma**2 - eta**2))*((1 - np.exp(-eta*12))**2)*(np.exp(-eta*(k-1)*12))/(eta**2) \n",
      "    - rho*muc*beta*(mux**2)*((1 - np.exp(-gamma*12))**2)*np.exp(-gamma*(k-1)*12)*eta/((gamma**2)*(gamma**2 - eta**2)) - cov12\n",
      "    f = f1**2 + f2**2 + f3**2 + f4**2 + f5**2\n",
      "    return f"
     ],
     "language": "python",
     "metadata": {},
     "outputs": [],
     "prompt_number": 193
    },
    {
     "cell_type": "raw",
     "metadata": {},
     "source": [
      "lamda: 0 - 1\n",
      "beta: 0 - 1\n",
      "gamma: 0.2 - 0.5\n",
      "eta: ~2\n",
      "mux: 1 - 5\n"
     ]
    },
    {
     "cell_type": "code",
     "collapsed": false,
     "input": [
      "x0 = np.array([1.5,0.5,0.4,2,3])\n",
      "sol = scipy.optimize.minimize(Bartlett_Lewis,x0,method='BFGS',options={'maxiter': 1e+20,'xtol': 1e-15, 'disp':True})\n",
      "sol.x\n"
     ],
     "language": "python",
     "metadata": {},
     "outputs": [
      {
       "output_type": "stream",
       "stream": "stdout",
       "text": [
        "Optimization terminated successfully.\n",
        "         Current function value: 0.000143\n",
        "         Iterations: 42\n",
        "         Function evaluations: 350\n",
        "         Gradient evaluations: 50\n"
       ]
      },
      {
       "metadata": {},
       "output_type": "pyout",
       "prompt_number": 279,
       "text": [
        "array([ -58.75030943, -244.60059532,  275.33551739,  137.10025248,\n",
        "         -3.92160776])"
       ]
      }
     ],
     "prompt_number": 279
    },
    {
     "cell_type": "code",
     "collapsed": false,
     "input": [
      "#x0 = np.empty(5)\n",
      "x0 = np.array(np.random.randn(5))\n",
      "x0"
     ],
     "language": "python",
     "metadata": {},
     "outputs": [
      {
       "metadata": {},
       "output_type": "pyout",
       "prompt_number": 317,
       "text": [
        "array([ 1.4521585 ,  0.2652566 ,  0.15890564,  0.59620513, -1.53491274])"
       ]
      }
     ],
     "prompt_number": 317
    },
    {
     "cell_type": "code",
     "collapsed": false,
     "input": [],
     "language": "python",
     "metadata": {},
     "outputs": []
    },
    {
     "cell_type": "code",
     "collapsed": false,
     "input": [
      "x0"
     ],
     "language": "python",
     "metadata": {},
     "outputs": [
      {
       "metadata": {},
       "output_type": "pyout",
       "prompt_number": 331,
       "text": [
        "array([-0.32855206,  1.63749081,  0.76916067,  0.25318522,  0.17620032])"
       ]
      }
     ],
     "prompt_number": 331
    },
    {
     "cell_type": "code",
     "collapsed": false,
     "input": [
      "for i in np.arange(1000):\n",
      "    x0 = np.array(np.random.randn(5))\n",
      "    sol = scipy.optimize.minimize(Bartlett_Lewis,x0,method='BFGS',options={'maxiter': 1e+20,'disp':False})\n",
      "    if sol.x[0] > 0 and sol.x[0] < 1:\n",
      "        if sol.x[1] > 0 and sol.x[1] < 1:\n",
      "            if sol.x[2] > 0 and sol.x[2] < 1:\n",
      "                if sol.x[3] > 0 and sol.x[4] > 0:\n",
      "                    print 'sol:',sol.x\n",
      "                    print 'x0:',x0\n"
     ],
     "language": "python",
     "metadata": {},
     "outputs": [],
     "prompt_number": 333
    },
    {
     "cell_type": "code",
     "collapsed": false,
     "input": [
      "for i in np.arange(10000):\n",
      "    x0 = np.array(np.random.randn(5))\n",
      "    sol = scipy.optimize.minimize(Bartlett_Lewis,x0,method='nelder-mead',options={'xtol': 1e-14,'disp':False})\n",
      "    if sol.x[0] > 0 and sol.x[0] < 1:\n",
      "        if sol.x[1] > 0 and sol.x[1] < 1:\n",
      "            if sol.x[2] > 0 and sol.x[2] < 1:\n",
      "                if sol.x[3] > 0 and sol.x[4] > 1:\n",
      "                    print 'sol:',sol.x\n",
      "                    print 'x0:',x0\n",
      "                    lamda,beta,gamma,eta,mux = sol.x\n",
      "                    f1,f2,f3,f4,f5 = check_Bartlett_Lewis(lamda,beta,gamma,eta,mux)\n",
      "                    print f1,f2,f3,f4,f5\n"
     ],
     "language": "python",
     "metadata": {},
     "outputs": [
      {
       "output_type": "stream",
       "stream": "stdout",
       "text": [
        "sol: [  2.69476116e-06   5.37294793e-01   5.86434825e-02   1.05638920e+00\n",
        "   2.18867347e+00]\n",
        "x0: [ 0.081677    0.15188616  0.73976489 -0.20588543  1.86227399]\n",
        "-0.189042836072 0.00233793858883 9.33491952476e-05 0.000218620818145 0.00021939421269\n"
       ]
      }
     ],
     "prompt_number": 332
    },
    {
     "cell_type": "code",
     "collapsed": false,
     "input": [],
     "language": "python",
     "metadata": {},
     "outputs": []
    },
    {
     "cell_type": "code",
     "collapsed": false,
     "input": [
      "lamda,beta,gamma,eta,mux = sol.x\n",
      "print sol.x\n",
      "check_Bartlett_Lewis(lamda,beta,gamma,eta,mux)"
     ],
     "language": "python",
     "metadata": {},
     "outputs": [
      {
       "output_type": "stream",
       "stream": "stdout",
       "text": [
        "[ 0.39220512  0.54159498  0.0205709   0.226462    0.81563297]\n"
       ]
      },
      {
       "metadata": {},
       "output_type": "pyout",
       "prompt_number": 323,
       "text": [
        "(38.414143177126114,\n",
        " 7434.0497325147953,\n",
        " 44.902994033550542,\n",
        " 603.6511814754374,\n",
        " 953.76225393115578)"
       ]
      }
     ],
     "prompt_number": 323
    },
    {
     "cell_type": "code",
     "collapsed": false,
     "input": [
      "x0 = np.array([1.3, 0.7, 0.8, 1.9, 1.2])\n",
      "x0 = np.array([3,2.5,0.4,2,4])\n",
      "sol = scipy.optimize.minimize(Bartlett_Lewis,x0,method='nelder-mead',options={'xtol': 1e-14, 'disp':True})\n",
      "sol.x"
     ],
     "language": "python",
     "metadata": {},
     "outputs": [
      {
       "output_type": "stream",
       "stream": "stdout",
       "text": [
        "Warning: Maximum number of function evaluations has been exceeded.\n"
       ]
      },
      {
       "metadata": {},
       "output_type": "pyout",
       "prompt_number": 211,
       "text": [
        "array([ 5.24318565,  0.93390341,  0.60324619,  1.06178251,  0.0148331 ])"
       ]
      }
     ],
     "prompt_number": 211
    },
    {
     "cell_type": "code",
     "collapsed": false,
     "input": [],
     "language": "python",
     "metadata": {},
     "outputs": []
    },
    {
     "cell_type": "code",
     "collapsed": false,
     "input": [
      "x0 = np.array([2.5,2.5,0.4,2,4])\n",
      "sol = scipy.optimize.minimize(Bartlett_Lewis,x0,method='nelder-mead',options={'xtol': 1e-14, 'disp':True})\n",
      "sol.x"
     ],
     "language": "python",
     "metadata": {},
     "outputs": [
      {
       "output_type": "stream",
       "stream": "stdout",
       "text": [
        "Warning: Maximum number of function evaluations has been exceeded.\n"
       ]
      },
      {
       "metadata": {},
       "output_type": "pyout",
       "prompt_number": 214,
       "text": [
        "array([ 4.76737522,  0.71494259,  0.7027643 ,  1.12976393,  0.02184445])"
       ]
      }
     ],
     "prompt_number": 214
    },
    {
     "cell_type": "code",
     "collapsed": false,
     "input": [
      "x0 = np.array([2.5,3,0.4,2,4])\n",
      "sol = scipy.optimize.minimize(Bartlett_Lewis,x0,method='nelder-mead',options={'xtol': 1e-14, 'disp':True})\n",
      "sol.x"
     ],
     "language": "python",
     "metadata": {},
     "outputs": [
      {
       "output_type": "stream",
       "stream": "stdout",
       "text": [
        "Warning: Maximum number of function evaluations has been exceeded.\n"
       ]
      },
      {
       "metadata": {},
       "output_type": "pyout",
       "prompt_number": 218,
       "text": [
        "array([  4.81819146e+00,   2.79082738e+00,   1.72340010e-01,\n",
        "         5.82640339e-01,   1.31409219e-03])"
       ]
      }
     ],
     "prompt_number": 218
    },
    {
     "cell_type": "code",
     "collapsed": false,
     "input": [
      "x0 = np.array([2.5,3,0.4,3,4])\n",
      "sol = scipy.optimize.minimize(Bartlett_Lewis,x0,method='nelder-mead',options={'xtol': 1e-14, 'disp':True})\n",
      "sol.x"
     ],
     "language": "python",
     "metadata": {},
     "outputs": [
      {
       "output_type": "stream",
       "stream": "stdout",
       "text": [
        "Warning: Maximum number of function evaluations has been exceeded.\n"
       ]
      },
      {
       "metadata": {},
       "output_type": "pyout",
       "prompt_number": 224,
       "text": [
        "array([ 6.62726212,  0.78831562,  0.70212122,  1.18035425,  0.01568064])"
       ]
      }
     ],
     "prompt_number": 224
    },
    {
     "cell_type": "code",
     "collapsed": false,
     "input": [
      "x0 = np.array([2.5,3,0.4,3.5,4])\n",
      "sol = scipy.optimize.minimize(Bartlett_Lewis,x0,method='nelder-mead',options={'xtol': 1e-14, 'disp':True})\n",
      "sol.x"
     ],
     "language": "python",
     "metadata": {},
     "outputs": [
      {
       "output_type": "stream",
       "stream": "stdout",
       "text": [
        "Warning: Maximum number of function evaluations has been exceeded.\n"
       ]
      },
      {
       "metadata": {},
       "output_type": "pyout",
       "prompt_number": 225,
       "text": [
        "array([ 4.82860287,  1.02997815,  0.40676305,  0.95355883,  0.01043047])"
       ]
      }
     ],
     "prompt_number": 225
    },
    {
     "cell_type": "code",
     "collapsed": false,
     "input": [
      "x0 = np.array([1.5,2.5,.5,2.5,3.5])\n",
      "sol = scipy.optimize.minimize(Bartlett_Lewis,x0,method='nelder-mead',options={'xtol': 1e-14, 'disp':True})\n",
      "sol.x"
     ],
     "language": "python",
     "metadata": {},
     "outputs": [
      {
       "output_type": "stream",
       "stream": "stdout",
       "text": [
        "Warning: Maximum number of function evaluations has been exceeded.\n"
       ]
      },
      {
       "metadata": {},
       "output_type": "pyout",
       "prompt_number": 252,
       "text": [
        "array([  6.14465759e+00,   7.12303903e+00,  -1.81574085e-01,\n",
        "         2.69453993e+00,  -2.17031987e-03])"
       ]
      }
     ],
     "prompt_number": 252
    },
    {
     "cell_type": "code",
     "collapsed": false,
     "input": [],
     "language": "python",
     "metadata": {},
     "outputs": []
    },
    {
     "cell_type": "code",
     "collapsed": false,
     "input": [
      "lamda,beta,gamma,eta,mux = sol.x\n",
      "print sol.x\n",
      "check_Bartlett_Lewis(lamda,beta,gamma,eta,mux)"
     ],
     "language": "python",
     "metadata": {},
     "outputs": [
      {
       "output_type": "stream",
       "stream": "stdout",
       "text": [
        "[  4.96730978e+00  -7.71471478e-01  -3.66391205e-03   1.36719687e+00\n",
        "   2.38314384e-04]\n"
       ]
      },
      {
       "metadata": {},
       "output_type": "pyout",
       "prompt_number": 195,
       "text": [
        "(-0.0059217155978999181,\n",
        " 0.013504279644395274,\n",
        " 2.5916998771715459e-05,\n",
        " 4.6647114918323896e-05,\n",
        " 4.6672660623777453e-05)"
       ]
      }
     ],
     "prompt_number": 195
    },
    {
     "cell_type": "code",
     "collapsed": false,
     "input": [
      "x0 = np.array([0.1, 0.1, 0.1, 0.1, 0.1])\n",
      "x0 = np.array([2,2,2,2,2])\n",
      "sol = scipy.optimize.minimize(Bartlett_Lewis,x0,method='nelder-mead',options={'xtol': 1e-14, 'disp':True})\n",
      "print sol.x"
     ],
     "language": "python",
     "metadata": {},
     "outputs": [
      {
       "output_type": "stream",
       "stream": "stdout",
       "text": [
        "Warning: Maximum number of function evaluations has been exceeded.\n",
        "[  1.13629244e+01  -1.97793548e-03  -7.71382191e-03   2.34993149e+00\n",
        "   3.09692915e-02]\n"
       ]
      }
     ],
     "prompt_number": 161
    },
    {
     "cell_type": "raw",
     "metadata": {},
     "source": [
      "lamda,beta,gamma,eta,mux = scipy.optimize.newton_krylov(F,[1,1,1,1,1],f_tol=1e-14)"
     ]
    },
    {
     "cell_type": "raw",
     "metadata": {},
     "source": [
      "def F(p):\n",
      "    lamda,beta,gamma,eta,mux = p\n",
      "    h = 1\n",
      "    k = 1\n",
      "    rho = lamda/eta\n",
      "    muc = 1 + beta/gamma\n",
      "    k = beta/eta\n",
      "    f1 = h*rho*muc*mux - mean\n",
      "    f2 = 2*rho*muc*(2*(mux**2) + beta*(mux**2)/gamma)*(h/eta) + (2*rho*muc*(mux**2)*beta*eta*(1 - np.exp(-gamma*h)))/((gamma**2)*(gamma**2 - eta**2)) \n",
      "    - 2*rho*muc*(2*(mux**2) + beta*(mux**2)*gamma/(gamma**2 - eta**2))*(1 - np.exp(-eta*h))/(eta**2) - var\n",
      "    f3 = rho*muc*(2*mux**2 + beta*gamma*mux**2*(gamma**2 - eta**2)**(-1))*np.exp(-eta*(k-1))*(1 - np.exp(-eta*h))**2/(eta**2) \\\n",
      "         - rho*muc*mux**2*beta*eta*(1 - np.exp(-gamma*h))**2*np.exp(0)*(gamma**2 - eta**2)**(-1)/gamma**2 - cov\n",
      "    h = 6\n",
      "    f4 = rho*muc*(2*mux**2 + beta*gamma*mux**2*(gamma**2 - eta**2)**(-1))*np.exp(0)*(1 - np.exp(-eta*h))**2/(eta**2) \\\n",
      "         - rho*muc*mux**2*beta*eta*(1 - np.exp(-gamma*h))**2*np.exp(0)*(gamma**2 - eta**2)**(-1)/gamma**2 - cov6\n",
      "\n",
      "    f5 = rho*muc*(2*mux**2 + beta*gamma*mux**2*(gamma**2 - eta**2)**(-1))*np.exp(0)*(1 - np.exp(-eta*h))**2/(eta**2) \\\n",
      "         - rho*muc*mux**2*beta*eta*(1 - np.exp(-gamma*h))**2*np.exp(0)*(gamma**2 - eta**2)**(-1)/gamma**2 - cov12\n",
      "    return (f1,f2,f3,f4,f5)"
     ]
    }
   ],
   "metadata": {}
  }
 ]
}