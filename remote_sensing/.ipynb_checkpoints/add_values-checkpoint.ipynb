{
 "metadata": {
  "name": "",
  "signature": "sha256:4efbd981bb77b7b853284cd04e13ecc90b100882bdc7122f2bfcead209a08537"
 },
 "nbformat": 3,
 "nbformat_minor": 0,
 "worksheets": []
}