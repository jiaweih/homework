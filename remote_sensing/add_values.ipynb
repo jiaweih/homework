{
 "metadata": {
  "name": "",
  "signature": "sha256:5258a1f7f5cb0b59d37db9a47cd5dc7b7008b68567ee310bb54d7bb524031c6d"
 },
 "nbformat": 3,
 "nbformat_minor": 0,
 "worksheets": [
  {
   "cells": [
    {
     "cell_type": "markdown",
     "metadata": {},
     "source": [
      "## demonstration of adding values together for Ori"
     ]
    },
    {
     "cell_type": "code",
     "collapsed": false,
     "input": [
      "import numpy as np\n",
      "import pandas as pd\n",
      "from netCDF4 import Dataset,num2date\n",
      "import os\n",
      "%matplotlib inline"
     ],
     "language": "python",
     "metadata": {},
     "outputs": [],
     "prompt_number": 37
    },
    {
     "cell_type": "code",
     "collapsed": false,
     "input": [
      "os.chdir('/raid/jiawei/remote_sensing/project1/subset')"
     ],
     "language": "python",
     "metadata": {},
     "outputs": [],
     "prompt_number": 38
    },
    {
     "cell_type": "code",
     "collapsed": false,
     "input": [
      "def get_data(ifile,var_name='pcp',lat_name='latitude',lon_name='longitude'):\n",
      "    nc = Dataset(ifile,'r')\n",
      "    lat = nc.variables[lat_name][:]\n",
      "    lon = nc.variables[lon_name][:]\n",
      "    var = nc.variables[var_name][:]\n",
      "    nc.close()\n",
      "    return (var,lat,lon)"
     ],
     "language": "python",
     "metadata": {},
     "outputs": [],
     "prompt_number": 39
    },
    {
     "cell_type": "code",
     "collapsed": false,
     "input": [
      "var,lat,lon = get_data('yearmean.nc')"
     ],
     "language": "python",
     "metadata": {},
     "outputs": [],
     "prompt_number": 40
    },
    {
     "cell_type": "code",
     "collapsed": false,
     "input": [
      "var.shape"
     ],
     "language": "python",
     "metadata": {},
     "outputs": [
      {
       "metadata": {},
       "output_type": "pyout",
       "prompt_number": 41,
       "text": [
        "(8, 30, 32)"
       ]
      }
     ],
     "prompt_number": 41
    },
    {
     "cell_type": "code",
     "collapsed": false,
     "input": [
      "arr = np.zeros((1,30,32))\n",
      "for i in np.arange(8):\n",
      "    for j in np.arange(30):\n",
      "        for k in np.arange(32):\n",
      "            arr[0,j,k] = arr[0,j,k] + var[i,j,k]"
     ],
     "language": "python",
     "metadata": {},
     "outputs": [],
     "prompt_number": 42
    },
    {
     "cell_type": "code",
     "collapsed": false,
     "input": [
      "new = np.array((9,30,32))\n",
      "new = var + arr"
     ],
     "language": "python",
     "metadata": {},
     "outputs": [],
     "prompt_number": 43
    },
    {
     "cell_type": "markdown",
     "metadata": {},
     "source": [
      "### \"new\" is the array that you want, which the addition of values in previous levels."
     ]
    }
   ],
   "metadata": {}
  }
 ]
}